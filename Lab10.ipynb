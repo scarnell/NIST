{
 "cells": [
  {
   "cell_type": "code",
   "execution_count": 67,
   "metadata": {
    "collapsed": true
   },
   "outputs": [],
   "source": [
    "from __future__ import division\n",
    "import pandas as pd\n",
    "import numpy as np\n",
    "import sys"
   ]
  },
  {
   "cell_type": "code",
   "execution_count": 68,
   "metadata": {
    "collapsed": false
   },
   "outputs": [],
   "source": [
    "def createDF(folderName):\n",
    "    if(not folderName.endswith(\"/\")):\n",
    "        folderName = folderName + \"/\"\n",
    "    flow_df = pd.read_csv(folderName + 'flow.tsv', delimiter='\\t', header=None) #around 712ms\n",
    "    speed_df = pd.read_csv(folderName + 'speed.tsv', delimiter='\\t', header=None)\n",
    "    occupancy_df = pd.read_csv(folderName + 'occupancy.tsv', delimiter='\\t', header=None)\n",
    "\n",
    "    df = pd.DataFrame({'A' : []})\n",
    "    del df['A']\n",
    "    for col in flow_df:\n",
    "        #%timeit df[0] = pd.Series(data = list(zip(flow_df[0],speed_df[0], occupancy_df[0])))\n",
    "        df[col] = pd.Series(data = list(zip(flow_df[col],speed_df[col], occupancy_df[col]))) # around 970ms\n",
    "    \n",
    "    prob_df = pd.read_csv(folderName + 'prob.tsv', delimiter='\\t', header=None)\n",
    "    df = pd.concat([df, prob_df], axis=1) #978ms\n",
    "    return df"
   ]
  },
  {
   "cell_type": "code",
   "execution_count": 69,
   "metadata": {
    "collapsed": false
   },
   "outputs": [],
   "source": [
    "#for submission: df = createDF(sys.argv[1])\n",
    "\n",
    "#%timeit df = createDF(\"cleaning2/1160\")\n",
    "\n",
    "df = createDF(\"cleaning2/1160\")"
   ]
  },
  {
   "cell_type": "code",
   "execution_count": null,
   "metadata": {
    "collapsed": true
   },
   "outputs": [],
   "source": []
  }
 ],
 "metadata": {
  "anaconda-cloud": {},
  "kernelspec": {
   "display_name": "Python [Root]",
   "language": "python",
   "name": "Python [Root]"
  },
  "language_info": {
   "codemirror_mode": {
    "name": "ipython",
    "version": 3
   },
   "file_extension": ".py",
   "mimetype": "text/x-python",
   "name": "python",
   "nbconvert_exporter": "python",
   "pygments_lexer": "ipython3",
   "version": "3.5.2"
  }
 },
 "nbformat": 4,
 "nbformat_minor": 0
}
