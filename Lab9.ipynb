{
 "cells": [
  {
   "cell_type": "code",
   "execution_count": 163,
   "metadata": {
    "collapsed": false
   },
   "outputs": [],
   "source": [
    "import pandas as pd\n",
    "from scipy.spatial import distance as dist\n",
    "from datetime import timedelta\n",
    "import numpy as np\n",
    "from __future__ import division"
   ]
  },
  {
   "cell_type": "code",
   "execution_count": 2,
   "metadata": {
    "collapsed": false
   },
   "outputs": [],
   "source": [
    "def getTimeStamp(timeStamp):\n",
    "    return pd.to_datetime(timeStamp)\n",
    "\n",
    "def createDF(folderName):\n",
    "    flow_df = pd.read_csv(folderName + 'flow.tsv', delimiter='\\t', header=None)\n",
    "    speed_df = pd.read_csv(folderName + 'speed.tsv', delimiter='\\t', header=None)\n",
    "    occupancy_df = pd.read_csv(folderName + 'occupancy.tsv', delimiter='\\t', header=None)\n",
    "    \n",
    "    df = pd.DataFrame({'A' : []})\n",
    "    del df['A']\n",
    "    for col in flow_df:\n",
    "        df[col] = pd.Series(data = list(zip(flow_df[col],speed_df[col], occupancy_df[col])))\n",
    "    \n",
    "    timeStamp_df = pd.read_csv(folderName + 'timestamp.tsv', delimiter='\\t', header=None)\n",
    "    df['timeStamp'] = getTimeStamp(timeStamp_df[0])\n",
    "    return df"
   ]
  },
  {
   "cell_type": "code",
   "execution_count": 3,
   "metadata": {
    "collapsed": false
   },
   "outputs": [],
   "source": [
    "def containsNeg(vec):\n",
    "    if(vec[0] < 0):\n",
    "        return 1\n",
    "    elif(vec[1] < 0):\n",
    "        return 1\n",
    "    elif(vec[2] < 0):\n",
    "        return 1\n",
    "    else:\n",
    "        return 0"
   ]
  },
  {
   "cell_type": "code",
   "execution_count": 368,
   "metadata": {
    "collapsed": true
   },
   "outputs": [],
   "source": [
    "def getVecInTimePeriod(timeInterval, currTime, df):\n",
    "    #print \"Curr Time: \",currTime\n",
    "    timeInterval = timedelta(minutes = timeInterval)\n",
    "    startTime = currTime - timeInterval\n",
    "    #print \"Start Time: \",startTime\n",
    "    endTime = currTime + timeInterval\n",
    "    #print \"End Time: \",endTime\n",
    "    df = df[df['timeStamp'] >= startTime]\n",
    "    return df[df['timeStamp'] <= endTime]"
   ]
  },
  {
   "cell_type": "code",
   "execution_count": 369,
   "metadata": {
    "collapsed": false
   },
   "outputs": [],
   "source": [
    "def combineScore(lane_p,zone_p,currVec):\n",
    "    if(containsNeg(currVec)):\n",
    "        print \"Negative value found!\"\n",
    "        neg_counter += 1\n",
    "        return 1\n",
    "    else:\n",
    "        return (LANE_WEIGHT * lane_p) + (ZONE_WEIGHT * zone_p)"
   ]
  },
  {
   "cell_type": "code",
   "execution_count": 371,
   "metadata": {
    "collapsed": false
   },
   "outputs": [],
   "source": [
    "#same lane calculations\n",
    "def compareLaneData(currCol,currVec,df, distThreshold):\n",
    "    row_index = df.index[0]\n",
    "    num_rows = df.shape[0]\n",
    "    max_index = row_index + num_rows\n",
    "    #print \"Num rows (includes curr): \",num_rows\n",
    "    col_index = 0\n",
    "    numVecGreater = 0\n",
    "    while row_index < max_index:\n",
    "        dist.euclidean(df[currCol][row_index], currVec)\n",
    "        edist = dist.euclidean(df[currCol][row_index], currVec)\n",
    "        #print \"Row \",row_index,\" dist: \",edist\n",
    "        if(edist > distThreshold):\n",
    "            numVecGreater += 1\n",
    "        row_index += 1\n",
    "    totalVec = row_index - 1\n",
    "    print \"Total Vectors: \",totalVec\n",
    "    print \"Num Vectors (>): \",numVecGreater\n",
    "    return numVecGreater/totalVec\n",
    "\n",
    "#same zone calculations\n",
    "def compareZoneData(currCol,currVec, df, distThreshold):\n",
    "    print \"CurrVec: \", currVec\n",
    "    print \"Current col: \", currCol\n",
    "    num_rows=df.shape[0]\n",
    "    total_cols=df.shape[1]\n",
    "    check_cols=np.arange(total_cols-1)\n",
    "    check_cols=np.delete(check_cols,currCol)\n",
    "    row_index = df.index[0]\n",
    "    max_index = row_index + num_rows\n",
    "    col_index = 0\n",
    "    numVecGreater = 0\n",
    "    totalVec=0\n",
    "    for col in check_cols:\n",
    "        while row_index < max_index:\n",
    "            edist = dist.euclidean(df[col][row_index], currVec)\n",
    "            #print \"Row \",row_index,\" Col \",col,\" dist: \",edist\n",
    "            if(edist > distThreshold):\n",
    "                numVecGreater += 1\n",
    "            row_index += 1\n",
    "            totalVec += 1\n",
    "        row_index = df.index[0]\n",
    "    print \"Total Vectors: \",totalVec\n",
    "    print \"Num Vectors (>): \",numVecGreater\n",
    "    return numVecGreater/totalVec"
   ]
  },
  {
   "cell_type": "code",
   "execution_count": null,
   "metadata": {
    "collapsed": true
   },
   "outputs": [],
   "source": [
    "#START\n",
    "#do all\n",
    "#load data\n",
    "zone = createDF('../cleaning1/1160/')"
   ]
  },
  {
   "cell_type": "code",
   "execution_count": 370,
   "metadata": {
    "collapsed": false
   },
   "outputs": [],
   "source": [
    "result = getVecInTimePeriod(5, zone['timeStamp'][8], zone)\n",
    "#result"
   ]
  },
  {
   "cell_type": "markdown",
   "metadata": {},
   "source": [
    "# RUN THIS TO GET FINAL PROBS FOR A SINGLE ZONE (FOLDER). MAKE LOOP TO DO ALL. NO IDEA HOW LONG THIS WILL RUN FOR. NOTE: OPTIMIZE THRESHOLDS FIRST BEFORE RUNNING ALL? NEED TO WRITE A TEXT FILE OUTPUT FUNCTION"
   ]
  },
  {
   "cell_type": "code",
   "execution_count": 372,
   "metadata": {
    "collapsed": false
   },
   "outputs": [
    {
     "name": "stdout",
     "output_type": "stream",
     "text": [
      "Num rows:  3775351\n",
      "Num cols:  3\n",
      "Total Vectors:  4\n",
      "Num Vectors (>):  1\n",
      "CurrVec:  (8, 68.0, 3.0)\n",
      "Current col:  0\n",
      "Total Vectors:  10\n",
      "Num Vectors (>):  5\n",
      "Comb (p):  0.3\n",
      "Total Vectors:  4\n",
      "Num Vectors (>):  3\n",
      "CurrVec:  (13, 67.0, 4.0)\n",
      "Current col:  1\n",
      "Total Vectors:  10\n",
      "Num Vectors (>):  6\n",
      "Comb (p):  0.72\n",
      "Total Vectors:  5\n",
      "Num Vectors (>):  1\n",
      "CurrVec:  (9, 67.0, 4.0)\n",
      "Current col:  0\n",
      "Total Vectors:  12\n",
      "Num Vectors (>):  6\n",
      "Comb (p):  0.26\n",
      "Total Vectors:  5\n",
      "Num Vectors (>):  4\n",
      "CurrVec:  (4, 60.0, 2.0)\n",
      "Current col:  1\n",
      "Total Vectors:  12\n",
      "Num Vectors (>):  7\n",
      "Comb (p):  0.756666666667\n"
     ]
    }
   ],
   "source": [
    "from __future__ import division\n",
    "\n",
    "TIME_INT = 5 #mins\n",
    "NUM_ROWS = zone1160.shape[0]\n",
    "NUM_COLS = zone1160.shape[1] - 1\n",
    "THRESH_DET=5\n",
    "THRESH_ZONE=10\n",
    "LANE_WEIGHT = 0.8\n",
    "ZONE_WEIGHT = 0.2\n",
    "neg_counter=0\n",
    "\n",
    "print \"Num rows: \",NUM_ROWS\n",
    "print \"Num cols: \",NUM_COLS\n",
    "\n",
    "for row in np.arange(NUM_ROWS):\n",
    "    currTime=zone['timeStamp'][row]\n",
    "    snippet = getVecInTimePeriod(TIME_INT, currTime, zone) #kill 2 birds at once, do all vectors on row before grabbing new time group\n",
    "    for col in np.arange(NUM_COLS):\n",
    "        currCol=col\n",
    "        currRow=row\n",
    "        currVec=zone[currCol][currRow]\n",
    "        lane_p=compareLaneData(currCol,currVec, snippet, THRESH_DET)\n",
    "        zone_p=compareZoneData(currCol,currVec, snippet, THRESH_ZONE)\n",
    "        #print \"ROW: \",currRow,\" COL: \",currCol\n",
    "        #print \"Lane (p): \",lane_p\n",
    "        #print \"Zone (p): \",zone_p\n",
    "        comb_p=combineScore(lane_p,zone_p,currVec)\n",
    "        print \"Comb (p): \",comb_p\n",
    " #END\n",
    "\n"
   ]
  },
  {
   "cell_type": "markdown",
   "metadata": {},
   "source": [
    "# Use this viz code to try and determine THRESH_LANE and THRESH_ZONE. Provides basic histogram and trends for spd, occup, and flow. NOTE: There is NO overall trend for the 'zone' comparison as there is for the within 'detector' comparsion. \n",
    "\n",
    "# Also, I am not sure how much insight this will provide you as the euclidean distance will be hard to set from just a visualization."
   ]
  },
  {
   "cell_type": "code",
   "execution_count": 373,
   "metadata": {
    "collapsed": false
   },
   "outputs": [],
   "source": [
    "import matplotlib.pyplot as plt\n",
    "%matplotlib inline\n",
    "\n",
    "#VIZ DATA - To get a feel for the distribution of spd,occup, and flow values for x minus\n",
    "ROW=100 #specific data point's row\n",
    "COL=0 #specific data point's col\n",
    "NUM_BINS=5 #histogram\n",
    "NUM_PLOTS=4 #dont change\n",
    "currVec=zone1160[COL][ROW] #curr vector\n",
    "snippet = getVecInTimePeriod(TIME_INT, zone1160['timeStamp'][ROW], zone) #grabs time segment\n",
    "\n",
    "#within detector metrics\n",
    "def plotLaneHist(currCol,currVec, df):\n",
    "    print \"CURR VEC: \",currVec\n",
    "    vals=np.arange(3) #iterator for columns\n",
    "    row_index = df.index[0]\n",
    "    num_rows = df.shape[0]\n",
    "    max_index = row_index + num_rows\n",
    "    col_index = 0\n",
    "    plot=1; #for plt.subplot\n",
    "    for measure in vals: #flow,spd,occup\n",
    "        while row_index < max_index:\n",
    "            loc=df[currCol][row_index][measure] #data value (eg. '67' mph)\n",
    "            plt.subplot(1,NUM_PLOTS,plot) #plot hist\n",
    "            fig=plt.hist(loc,bins=NUM_BINS)\n",
    "            row_index += 1\n",
    "            plt.ylim(0,5)\n",
    "            if (plot==1):\n",
    "                #flow\n",
    "                plt.xlim(-50,260)\n",
    "                plt.title('Flow')\n",
    "                plt.subplot(1,NUM_PLOTS,4)\n",
    "                all_flow=[x[0] for x in df[currCol][:]]\n",
    "                plt.plot(np.arange(num_rows),all_flow,color='b') #all plots (4th fig)\n",
    "                plt.ylim(-50,260)\n",
    "                plt.title(\"ALL METRICS\")\n",
    "            if (plot==2):\n",
    "                #spd\n",
    "                plt.xlim(-50,150)\n",
    "                plt.title('Spd')\n",
    "                plt.subplot(1,NUM_PLOTS,4)\n",
    "                all_flow=[x[1] for x in df[currCol][:]]\n",
    "                plt.plot(np.arange(num_rows),all_flow,color='r')\n",
    "                plt.ylim(-50,260)\n",
    "                plt.title(\"ALL METRICS\")\n",
    "            if (plot==3):\n",
    "                #occup\n",
    "                plt.xlim(0,100)\n",
    "                plt.title('Occup')\n",
    "                plt.subplot(1,NUM_PLOTS,4)\n",
    "                all_flow=[x[2] for x in df[currCol][:]]\n",
    "                plt.plot(np.arange(num_rows),all_flow,color='k')\n",
    "                plt.ylim(-50,260)\n",
    "                plt.title(\"ALL METRICS\")\n",
    "        row_index = df.index[0]\n",
    "        plot += 1\n",
    "\n",
    "#within zone metrics\n",
    "def plotZoneHist(currCol,currVec, df):\n",
    "    print \"CURR VEC: \",currVec\n",
    "    vals=np.arange(3)\n",
    "    row_index = df.index[0]\n",
    "    num_rows = df.shape[0]\n",
    "    max_index = row_index + num_rows\n",
    "    total_cols=df.shape[1]\n",
    "    check_cols=np.arange(total_cols-1)\n",
    "    check_cols=np.delete(check_cols,currCol)\n",
    "    col_index = 0\n",
    "    plot=1;\n",
    "    for measure in vals:\n",
    "        for col in check_cols:\n",
    "            while row_index < max_index:\n",
    "                loc=df[col][row_index][measure]\n",
    "                plt.subplot(1,NUM_PLOTS,plot)\n",
    "                fig=plt.hist(loc,bins=NUM_BINS)\n",
    "                row_index += 1\n",
    "                plt.ylim(0,5)\n",
    "                if (plot==1):\n",
    "                    #flow\n",
    "                    plt.xlim(-50,260)\n",
    "                    plt.title('Flow')\n",
    "                if (plot==2):\n",
    "                    #spd\n",
    "                    plt.xlim(-50,150)\n",
    "                    plt.title('Spd')\n",
    "                if (plot==3):\n",
    "                    #occup\n",
    "                    plt.xlim(0,100)\n",
    "                    plt.title('Occup')\n",
    "            row_index = df.index[0]\n",
    "        plot += 1\n",
    "        row_index = df.index[0]\n"
   ]
  },
  {
   "cell_type": "code",
   "execution_count": 374,
   "metadata": {
    "collapsed": false
   },
   "outputs": [
    {
     "name": "stdout",
     "output_type": "stream",
     "text": [
      "CURR VEC:  (3, 63.0, 1.0)\n"
     ]
    },
    {
     "data": {
      "image/png": "[encoded data removed]",
      "text/plain": [
       "<matplotlib.figure.Figure at 0x19f3c4690>"
      ]
     },
     "metadata": {},
     "output_type": "display_data"
    }
   ],
   "source": [
    "plotLaneHist(COL,currVec, result)\n"
   ]
  },
  {
   "cell_type": "code",
   "execution_count": 375,
   "metadata": {
    "collapsed": false
   },
   "outputs": [
    {
     "name": "stdout",
     "output_type": "stream",
     "text": [
      "CURR VEC:  (3, 63.0, 1.0)\n"
     ]
    },
    {
     "data": {
      "image/png": "[encoded data removed]",
      "text/plain": [
       "<matplotlib.figure.Figure at 0x131bc4250>"
      ]
     },
     "metadata": {},
     "output_type": "display_data"
    }
   ],
   "source": [
    "plotZoneHist(COL,currVec, result)\n"
   ]
  },
  {
   "cell_type": "code",
   "execution_count": null,
   "metadata": {
    "collapsed": true
   },
   "outputs": [],
   "source": []
  }
 ],
 "metadata": {
  "anaconda-cloud": {},
  "kernelspec": {
   "display_name": "Python [Root]",
   "language": "python",
   "name": "Python [Root]"
  },
  "language_info": {
   "codemirror_mode": {
    "name": "ipython",
    "version": 2
   },
   "file_extension": ".py",
   "mimetype": "text/x-python",
   "name": "python",
   "nbconvert_exporter": "python",
   "pygments_lexer": "ipython2",
   "version": "2.7.12"
  }
 },
 "nbformat": 4,
 "nbformat_minor": 0
}
