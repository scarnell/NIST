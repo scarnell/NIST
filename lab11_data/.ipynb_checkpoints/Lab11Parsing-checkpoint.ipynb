{
 "cells": [
  {
   "cell_type": "code",
   "execution_count": 16,
   "metadata": {
    "collapsed": true
   },
   "outputs": [],
   "source": [
    "import pandas as pd\n",
    "import datetime"
   ]
  },
  {
   "cell_type": "code",
   "execution_count": 50,
   "metadata": {
    "collapsed": true
   },
   "outputs": [],
   "source": [
    "eventTypes = ['accidentsAndIncidents', 'roadwork', 'precipitation', 'deviceStatus', 'obstruction', 'trafficConditions']"
   ]
  },
  {
   "cell_type": "code",
   "execution_count": 2,
   "metadata": {
    "collapsed": true
   },
   "outputs": [],
   "source": [
    "trials = pd.read_csv(\"prediction_trials.tsv\", sep=\"\\t\")"
   ]
  },
  {
   "cell_type": "code",
   "execution_count": 85,
   "metadata": {
    "collapsed": false
   },
   "outputs": [
    {
     "data": {
      "text/html": [
       "<div>\n",
       "<table border=\"1\" class=\"dataframe\">\n",
       "  <thead>\n",
       "    <tr style=\"text-align: right;\">\n",
       "      <th></th>\n",
       "      <th>trial_id</th>\n",
       "      <th>nw_lat</th>\n",
       "      <th>nw_lon</th>\n",
       "      <th>se_lat</th>\n",
       "      <th>se_lon</th>\n",
       "      <th>start</th>\n",
       "      <th>end</th>\n",
       "    </tr>\n",
       "  </thead>\n",
       "  <tbody>\n",
       "    <tr>\n",
       "      <th>0</th>\n",
       "      <td>p_00000001</td>\n",
       "      <td>39.182985</td>\n",
       "      <td>-76.798663</td>\n",
       "      <td>39.170238</td>\n",
       "      <td>-76.778150</td>\n",
       "      <td>2015-02-01T00:00:00-05:00</td>\n",
       "      <td>2015-03-01T00:00:00-05:00</td>\n",
       "    </tr>\n",
       "    <tr>\n",
       "      <th>1</th>\n",
       "      <td>p_00000002</td>\n",
       "      <td>39.303607</td>\n",
       "      <td>-76.829335</td>\n",
       "      <td>39.296709</td>\n",
       "      <td>-76.806935</td>\n",
       "      <td>2016-01-08T00:00:00-05:00</td>\n",
       "      <td>2016-01-22T00:00:00-05:00</td>\n",
       "    </tr>\n",
       "    <tr>\n",
       "      <th>2</th>\n",
       "      <td>p_00000003</td>\n",
       "      <td>38.946840</td>\n",
       "      <td>-76.783484</td>\n",
       "      <td>38.931581</td>\n",
       "      <td>-76.761971</td>\n",
       "      <td>2015-03-01T00:00:00-05:00</td>\n",
       "      <td>2015-04-01T00:00:00-05:00</td>\n",
       "    </tr>\n",
       "    <tr>\n",
       "      <th>3</th>\n",
       "      <td>p_00000004</td>\n",
       "      <td>38.996686</td>\n",
       "      <td>-77.159555</td>\n",
       "      <td>38.982995</td>\n",
       "      <td>-77.140682</td>\n",
       "      <td>2015-01-01T00:00:00-05:00</td>\n",
       "      <td>2015-02-01T00:00:00-05:00</td>\n",
       "    </tr>\n",
       "    <tr>\n",
       "      <th>4</th>\n",
       "      <td>p_00000005</td>\n",
       "      <td>39.283366</td>\n",
       "      <td>-76.562381</td>\n",
       "      <td>39.265534</td>\n",
       "      <td>-76.544242</td>\n",
       "      <td>2016-04-05T00:00:00-05:00</td>\n",
       "      <td>2016-04-14T00:00:00-05:00</td>\n",
       "    </tr>\n",
       "  </tbody>\n",
       "</table>\n",
       "</div>"
      ],
      "text/plain": [
       "     trial_id     nw_lat     nw_lon     se_lat     se_lon  \\\n",
       "0  p_00000001  39.182985 -76.798663  39.170238 -76.778150   \n",
       "1  p_00000002  39.303607 -76.829335  39.296709 -76.806935   \n",
       "2  p_00000003  38.946840 -76.783484  38.931581 -76.761971   \n",
       "3  p_00000004  38.996686 -77.159555  38.982995 -77.140682   \n",
       "4  p_00000005  39.283366 -76.562381  39.265534 -76.544242   \n",
       "\n",
       "                       start                        end  \n",
       "0  2015-02-01T00:00:00-05:00  2015-03-01T00:00:00-05:00  \n",
       "1  2016-01-08T00:00:00-05:00  2016-01-22T00:00:00-05:00  \n",
       "2  2015-03-01T00:00:00-05:00  2015-04-01T00:00:00-05:00  \n",
       "3  2015-01-01T00:00:00-05:00  2015-02-01T00:00:00-05:00  \n",
       "4  2016-04-05T00:00:00-05:00  2016-04-14T00:00:00-05:00  "
      ]
     },
     "execution_count": 85,
     "metadata": {},
     "output_type": "execute_result"
    }
   ],
   "source": [
    "trials.head()"
   ]
  },
  {
   "cell_type": "code",
   "execution_count": 80,
   "metadata": {
    "collapsed": false
   },
   "outputs": [],
   "source": [
    "def findYear(row):\n",
    "    years = ['2003', '2004', '2005', '2006', '2007', '2008', '2009', '2010', '2011', '2012', '2013', '2014', '2015', '2016']\n",
    "    for year in years:\n",
    "        if(year in str(row['closed_tstamp'])):\n",
    "            return int(year)\n",
    "    for year in years:\n",
    "        if(year in str(row['created_tstamp'])):\n",
    "            return int(year)\n",
    "    for year in years:\n",
    "        if(year in str(row['confirmed_tstamp'])):\n",
    "            return int(year)"
   ]
  },
  {
   "cell_type": "code",
   "execution_count": 54,
   "metadata": {
    "collapsed": false
   },
   "outputs": [],
   "source": [
    "events = pd.read_csv(\"events_train.tsv\", sep=\"\\t\")"
   ]
  },
  {
   "cell_type": "code",
   "execution_count": 59,
   "metadata": {
    "collapsed": false
   },
   "outputs": [],
   "source": [
    "events = events[events.event_type.isin(eventTypes)]"
   ]
  },
  {
   "cell_type": "code",
   "execution_count": 61,
   "metadata": {
    "collapsed": false
   },
   "outputs": [
    {
     "data": {
      "text/plain": [
       "event_type\n",
       "accidentsAndIncidents    550079\n",
       "deviceStatus              38997\n",
       "obstruction               32971\n",
       "precipitation              4330\n",
       "roadwork                 155896\n",
       "trafficConditions         55663\n",
       "dtype: int64"
      ]
     },
     "execution_count": 61,
     "metadata": {},
     "output_type": "execute_result"
    }
   ],
   "source": [
    "events.groupby('event_type').size()"
   ]
  },
  {
   "cell_type": "code",
   "execution_count": 62,
   "metadata": {
    "collapsed": false
   },
   "outputs": [],
   "source": [
    "events['year'] = events.apply(lambda row : findYear(row), axis = 1)"
   ]
  },
  {
   "cell_type": "code",
   "execution_count": 90,
   "metadata": {
    "collapsed": false
   },
   "outputs": [],
   "source": [
    "current_trial = trials['trial_id'][0]\n",
    "nw_lat = trials['nw_lat'][0]\n",
    "nw_lon = trials['nw_lon'][0]\n",
    "se_lat = trials['se_lat'][0]\n",
    "se_lon = trials['se_lon'][0]"
   ]
  },
  {
   "cell_type": "code",
   "execution_count": 83,
   "metadata": {
    "collapsed": true
   },
   "outputs": [],
   "source": [
    "events_f = events[(events.latitude <= nw_lat) & (events.latitude >= se_lat)]"
   ]
  },
  {
   "cell_type": "code",
   "execution_count": 84,
   "metadata": {
    "collapsed": false
   },
   "outputs": [
    {
     "data": {
      "text/html": [
       "<div>\n",
       "<table border=\"1\" class=\"dataframe\">\n",
       "  <thead>\n",
       "    <tr style=\"text-align: right;\">\n",
       "      <th>event_type</th>\n",
       "      <th>accidentsAndIncidents</th>\n",
       "      <th>deviceStatus</th>\n",
       "      <th>obstruction</th>\n",
       "      <th>precipitation</th>\n",
       "      <th>roadwork</th>\n",
       "      <th>trafficConditions</th>\n",
       "    </tr>\n",
       "    <tr>\n",
       "      <th>year</th>\n",
       "      <th></th>\n",
       "      <th></th>\n",
       "      <th></th>\n",
       "      <th></th>\n",
       "      <th></th>\n",
       "      <th></th>\n",
       "    </tr>\n",
       "  </thead>\n",
       "  <tbody>\n",
       "    <tr>\n",
       "      <th>2003</th>\n",
       "      <td>8.0</td>\n",
       "      <td>0.0</td>\n",
       "      <td>1.0</td>\n",
       "      <td>0.0</td>\n",
       "      <td>0.0</td>\n",
       "      <td>0.0</td>\n",
       "    </tr>\n",
       "    <tr>\n",
       "      <th>2004</th>\n",
       "      <td>29.0</td>\n",
       "      <td>0.0</td>\n",
       "      <td>1.0</td>\n",
       "      <td>0.0</td>\n",
       "      <td>0.0</td>\n",
       "      <td>0.0</td>\n",
       "    </tr>\n",
       "    <tr>\n",
       "      <th>2005</th>\n",
       "      <td>117.0</td>\n",
       "      <td>0.0</td>\n",
       "      <td>8.0</td>\n",
       "      <td>0.0</td>\n",
       "      <td>2.0</td>\n",
       "      <td>0.0</td>\n",
       "    </tr>\n",
       "    <tr>\n",
       "      <th>2006</th>\n",
       "      <td>87.0</td>\n",
       "      <td>0.0</td>\n",
       "      <td>2.0</td>\n",
       "      <td>0.0</td>\n",
       "      <td>1.0</td>\n",
       "      <td>1.0</td>\n",
       "    </tr>\n",
       "    <tr>\n",
       "      <th>2007</th>\n",
       "      <td>190.0</td>\n",
       "      <td>0.0</td>\n",
       "      <td>28.0</td>\n",
       "      <td>0.0</td>\n",
       "      <td>0.0</td>\n",
       "      <td>1.0</td>\n",
       "    </tr>\n",
       "    <tr>\n",
       "      <th>2008</th>\n",
       "      <td>228.0</td>\n",
       "      <td>0.0</td>\n",
       "      <td>16.0</td>\n",
       "      <td>0.0</td>\n",
       "      <td>16.0</td>\n",
       "      <td>0.0</td>\n",
       "    </tr>\n",
       "    <tr>\n",
       "      <th>2009</th>\n",
       "      <td>587.0</td>\n",
       "      <td>0.0</td>\n",
       "      <td>36.0</td>\n",
       "      <td>0.0</td>\n",
       "      <td>51.0</td>\n",
       "      <td>3.0</td>\n",
       "    </tr>\n",
       "    <tr>\n",
       "      <th>2010</th>\n",
       "      <td>769.0</td>\n",
       "      <td>0.0</td>\n",
       "      <td>26.0</td>\n",
       "      <td>0.0</td>\n",
       "      <td>34.0</td>\n",
       "      <td>1.0</td>\n",
       "    </tr>\n",
       "    <tr>\n",
       "      <th>2011</th>\n",
       "      <td>1004.0</td>\n",
       "      <td>64.0</td>\n",
       "      <td>78.0</td>\n",
       "      <td>1.0</td>\n",
       "      <td>107.0</td>\n",
       "      <td>0.0</td>\n",
       "    </tr>\n",
       "    <tr>\n",
       "      <th>2012</th>\n",
       "      <td>1723.0</td>\n",
       "      <td>65.0</td>\n",
       "      <td>113.0</td>\n",
       "      <td>0.0</td>\n",
       "      <td>141.0</td>\n",
       "      <td>2.0</td>\n",
       "    </tr>\n",
       "    <tr>\n",
       "      <th>2013</th>\n",
       "      <td>1485.0</td>\n",
       "      <td>56.0</td>\n",
       "      <td>114.0</td>\n",
       "      <td>1.0</td>\n",
       "      <td>184.0</td>\n",
       "      <td>2.0</td>\n",
       "    </tr>\n",
       "    <tr>\n",
       "      <th>2014</th>\n",
       "      <td>1393.0</td>\n",
       "      <td>60.0</td>\n",
       "      <td>106.0</td>\n",
       "      <td>0.0</td>\n",
       "      <td>438.0</td>\n",
       "      <td>1.0</td>\n",
       "    </tr>\n",
       "    <tr>\n",
       "      <th>2015</th>\n",
       "      <td>0.0</td>\n",
       "      <td>0.0</td>\n",
       "      <td>0.0</td>\n",
       "      <td>0.0</td>\n",
       "      <td>2.0</td>\n",
       "      <td>0.0</td>\n",
       "    </tr>\n",
       "  </tbody>\n",
       "</table>\n",
       "</div>"
      ],
      "text/plain": [
       "event_type  accidentsAndIncidents  deviceStatus  obstruction  precipitation  \\\n",
       "year                                                                          \n",
       "2003                          8.0           0.0          1.0            0.0   \n",
       "2004                         29.0           0.0          1.0            0.0   \n",
       "2005                        117.0           0.0          8.0            0.0   \n",
       "2006                         87.0           0.0          2.0            0.0   \n",
       "2007                        190.0           0.0         28.0            0.0   \n",
       "2008                        228.0           0.0         16.0            0.0   \n",
       "2009                        587.0           0.0         36.0            0.0   \n",
       "2010                        769.0           0.0         26.0            0.0   \n",
       "2011                       1004.0          64.0         78.0            1.0   \n",
       "2012                       1723.0          65.0        113.0            0.0   \n",
       "2013                       1485.0          56.0        114.0            1.0   \n",
       "2014                       1393.0          60.0        106.0            0.0   \n",
       "2015                          0.0           0.0          0.0            0.0   \n",
       "\n",
       "event_type  roadwork  trafficConditions  \n",
       "year                                     \n",
       "2003             0.0                0.0  \n",
       "2004             0.0                0.0  \n",
       "2005             2.0                0.0  \n",
       "2006             1.0                1.0  \n",
       "2007             0.0                1.0  \n",
       "2008            16.0                0.0  \n",
       "2009            51.0                3.0  \n",
       "2010            34.0                1.0  \n",
       "2011           107.0                0.0  \n",
       "2012           141.0                2.0  \n",
       "2013           184.0                2.0  \n",
       "2014           438.0                1.0  \n",
       "2015             2.0                0.0  "
      ]
     },
     "execution_count": 84,
     "metadata": {},
     "output_type": "execute_result"
    }
   ],
   "source": [
    "efg = events_f.groupby(['year', 'event_type']).size().unstack()\n",
    "efg.fillna(0, inplace=True)\n",
    "efg"
   ]
  },
  {
   "cell_type": "code",
   "execution_count": 91,
   "metadata": {
    "collapsed": false
   },
   "outputs": [],
   "source": [
    "efg.to_csv('event_counts/' + current_trial, sep=',' , header = False)"
   ]
  },
  {
   "cell_type": "code",
   "execution_count": null,
   "metadata": {
    "collapsed": true
   },
   "outputs": [],
   "source": []
  }
 ],
 "metadata": {
  "kernelspec": {
   "display_name": "Python [Root]",
   "language": "python",
   "name": "Python [Root]"
  },
  "language_info": {
   "codemirror_mode": {
    "name": "ipython",
    "version": 3
   },
   "file_extension": ".py",
   "mimetype": "text/x-python",
   "name": "python",
   "nbconvert_exporter": "python",
   "pygments_lexer": "ipython3",
   "version": "3.5.2"
  }
 },
 "nbformat": 4,
 "nbformat_minor": 0
}
