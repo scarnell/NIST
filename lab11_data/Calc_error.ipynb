{
 "cells": [
  {
   "cell_type": "code",
   "execution_count": 4,
   "metadata": {
    "collapsed": false
   },
   "outputs": [],
   "source": [
    "import time\n",
    "import pandas as pd\n",
    "import numpy as np"
   ]
  },
  {
   "cell_type": "code",
   "execution_count": 40,
   "metadata": {
    "collapsed": false
   },
   "outputs": [
    {
     "name": "stdout",
     "output_type": "stream",
     "text": [
      "Percent done: 0.0 Rows done: 0 of: 498, elapsed (s): 0.28612589836120605\n",
      "Error: 72.4725655521\n",
      "Elapsed (s): 0.2933380603790283\n"
     ]
    }
   ],
   "source": [
    "#main\n",
    "PRED_FILE_2014='2014pred_avg.csv'\n",
    "ACTU_FILE_2014='test.csv'\n",
    "st=time.time() #timer start\n",
    "err = calc_total_error(ACTU_FILE_2014,PRED_FILE_2014,st)\n",
    "print(\"Error: \" + str(err))\n",
    "print(\"Elapsed (s): \" + str(time.time()-st))"
   ]
  },
  {
   "cell_type": "code",
   "execution_count": 37,
   "metadata": {
    "collapsed": false
   },
   "outputs": [],
   "source": [
    "#calc_total_error==required output for lab11\n",
    "def calc_total_error(actual_file, pred_file,st):\n",
    "    \n",
    "    #NOTE: Change delimiter if use different delims in each file!!!\n",
    "    \n",
    "    pred=pd.read_csv(pred_file, delimiter=',',header=-1) #pred-predicted counts for 2014 (train: yr 2003-2013)\n",
    "    act=pd.read_csv(actual_file, delimiter=',',header=-1) #actual-actual counts for 2014\n",
    "    pred=pred.as_matrix()\n",
    "    act=act.as_matrix()\n",
    "    \n",
    "    PRINTOUT_PERC=10000\n",
    "    NUM_ROWS = pred.shape[0]-1\n",
    "\n",
    "    square_errors=0 #running sum of squared errors per row\n",
    "    for r,row in enumerate(np.arange(NUM_ROWS)):\n",
    "        act_counts = act[row,:]\n",
    "        pred_counts = pred[row,:]\n",
    "        avg_row_error = calc_row_error(act_counts,pred_counts) #calc square error on row\n",
    "        square_errors += avg_row_error\n",
    "        if (row%PRINTOUT_PERC==0):\n",
    "            print(\"Percent done: \" + str(row/NUM_ROWS*100) + \" Rows done: \" + str(row) + \" of: \" + str(NUM_ROWS) + \", elapsed (s): \" + str(time.time()-st))\n",
    "    total_error = np.sqrt(square_errors / NUM_ROWS) #FINAL\n",
    "    return total_error"
   ]
  },
  {
   "cell_type": "code",
   "execution_count": 38,
   "metadata": {
    "collapsed": true
   },
   "outputs": [],
   "source": [
    "#calc row error (params: (2) arrays)\n",
    "def calc_row_error(act,pred):\n",
    "    NUM_COUNTS = 6 #columns\n",
    "    square_errors=0 #running sum of squarred errors for row\n",
    "    for count in np.arange(NUM_COUNTS):\n",
    "        square_err=pow((act[count]-pred[count]),2) #square error per accident type\n",
    "        square_errors += square_err\n",
    "    avg_row_square_err = square_errors / NUM_COUNTS #avg square error for row\n",
    "    return avg_row_square_err"
   ]
  },
  {
   "cell_type": "code",
   "execution_count": null,
   "metadata": {
    "collapsed": true
   },
   "outputs": [],
   "source": []
  }
 ],
 "metadata": {
  "kernelspec": {
   "display_name": "Python [Root]",
   "language": "python",
   "name": "Python [Root]"
  },
  "language_info": {
   "codemirror_mode": {
    "name": "ipython",
    "version": 3
   },
   "file_extension": ".py",
   "mimetype": "text/x-python",
   "name": "python",
   "nbconvert_exporter": "python",
   "pygments_lexer": "ipython3",
   "version": "3.5.2"
  }
 },
 "nbformat": 4,
 "nbformat_minor": 0
}
