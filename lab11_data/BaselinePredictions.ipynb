{
 "cells": [
  {
   "cell_type": "code",
   "execution_count": 59,
   "metadata": {
    "collapsed": true
   },
   "outputs": [],
   "source": [
    "from __future__ import division\n",
    "import pandas as pd\n",
    "import numpy as np\n",
    "import csv\n",
    "from sklearn.linear_model import LogisticRegression as lr\n",
    "from sklearn.linear_model import LinearRegression as linr\n",
    "from multiprocessing import Pool, cpu_count"
   ]
  },
  {
   "cell_type": "code",
   "execution_count": 60,
   "metadata": {
    "collapsed": true
   },
   "outputs": [],
   "source": [
    "cols = ['index','year', 'accidentsAndIncidents', 'deviceStatus', 'obstruction', 'precipitation', 'roadwork', 'trafficConditions', 'trial']\n",
    "eventTypes = ['accidentsAndIncidents', 'deviceStatus', 'obstruction', 'precipitation', 'roadwork', 'trafficConditions']"
   ]
  },
  {
   "cell_type": "code",
   "execution_count": 61,
   "metadata": {
    "collapsed": false
   },
   "outputs": [],
   "source": [
    "events = pd.read_csv(\"train.csv\", sep=\",\", header=None)\n",
    "events.columns= cols"
   ]
  },
  {
   "cell_type": "code",
   "execution_count": 143,
   "metadata": {
    "collapsed": false
   },
   "outputs": [
    {
     "name": "stdout",
     "output_type": "stream",
     "text": [
      "295.0\n"
     ]
    }
   ],
   "source": [
    "print(events.iloc[len(events) - 1]['accidentsAndIncidents'])"
   ]
  },
  {
   "cell_type": "code",
   "execution_count": 135,
   "metadata": {
    "collapsed": false
   },
   "outputs": [],
   "source": [
    "#del events['index']\n",
    "del events['trial']"
   ]
  },
  {
   "cell_type": "code",
   "execution_count": 64,
   "metadata": {
    "collapsed": true
   },
   "outputs": [],
   "source": [
    "def find_int(row):\n",
    "    return int(row['trial'].split('_')[1])\n",
    "events['id'] = events.apply(lambda row: find_int(row), axis = 1)"
   ]
  },
  {
   "cell_type": "code",
   "execution_count": 65,
   "metadata": {
    "collapsed": false
   },
   "outputs": [],
   "source": [
    "trials = events['id'].unique()"
   ]
  },
  {
   "cell_type": "code",
   "execution_count": 160,
   "metadata": {
    "collapsed": false
   },
   "outputs": [],
   "source": [
    "def find_predictions(trial_id):\n",
    "    train_df = events[events.id == trial_id]\n",
    "    pred = []\n",
    "    #print(train_df)\n",
    "    for event in eventTypes:\n",
    "        #regression = np.polyfit(train_df['year'], train_df[event], 1)\n",
    "        #pred.append(int(regression[0]*2014 + regression[1]))\n",
    "        regr = linr(fit_intercept = True, normalize = True)\n",
    "        x = train_df['year'].reshape(-1,1)\n",
    "        y = train_df[event]\n",
    "        regr.fit(x, y)\n",
    "        r = regr.score(x, y)\n",
    "        predict_val = regr.predict(2014)\n",
    "        val13 = train_df.iloc[train_df.shape[0]-1][event]\n",
    "        #if(r > .8):\n",
    "            #avg = np.mean([predict_val, val13])\n",
    "            #pred.append(int(avg))\n",
    "        #else:\n",
    "            #pred.append(val13)\n",
    "        pred.append(int(np.mean([predict_val, val13])))\n",
    "    wr.writerow(pred)"
   ]
  },
  {
   "cell_type": "code",
   "execution_count": 161,
   "metadata": {
    "collapsed": false,
    "scrolled": true
   },
   "outputs": [
    {
     "name": "stdout",
     "output_type": "stream",
     "text": [
      "percent complete 0.0 %\n"
     ]
    }
   ],
   "source": [
    "prediction = open('2014pred_avg.csv', 'a')\n",
    "wr = csv.writer(prediction, dialect='excel')\n",
    "\n",
    "count = 0\n",
    "total = len(trials) + 1\n",
    "for trial in range(1, 500):\n",
    "    if(count %500 == 0):\n",
    "        print(\"percent complete \" + str((count/len(trials))*100) + \" %\")\n",
    "        prediction.flush()\n",
    "    find_predictions(trial)\n",
    "    count += 1\n",
    "prediction.flush()"
   ]
  },
  {
   "cell_type": "code",
   "execution_count": null,
   "metadata": {
    "collapsed": true
   },
   "outputs": [],
   "source": []
  }
 ],
 "metadata": {
  "anaconda-cloud": {},
  "kernelspec": {
   "display_name": "Python [Root]",
   "language": "python",
   "name": "Python [Root]"
  },
  "language_info": {
   "codemirror_mode": {
    "name": "ipython",
    "version": 3
   },
   "file_extension": ".py",
   "mimetype": "text/x-python",
   "name": "python",
   "nbconvert_exporter": "python",
   "pygments_lexer": "ipython3",
   "version": "3.5.2"
  }
 },
 "nbformat": 4,
 "nbformat_minor": 0
}
